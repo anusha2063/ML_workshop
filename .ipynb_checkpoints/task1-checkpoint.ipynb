{
 "cells": [
  {
   "cell_type": "markdown",
   "id": "a30018f7-ad0d-4613-a91b-6ad2f9452976",
   "metadata": {},
   "source": [
    "# Q1: Greeting Program"
   ]
  },
  {
   "cell_type": "code",
   "execution_count": 2,
   "id": "51363676-0f4b-4bbd-bdbc-10ae8f99131a",
   "metadata": {},
   "outputs": [
    {
     "name": "stdin",
     "output_type": "stream",
     "text": [
      "Enter your first name:  Anusha\n",
      "Enter your last name:  Khatiwada\n"
     ]
    },
    {
     "name": "stdout",
     "output_type": "stream",
     "text": [
      "Hello, Anusha Khatiwada! Welcome to Python programming.\n"
     ]
    }
   ],
   "source": [
    "# Q1: Greeting Program\n",
    "first_name = input(\"Enter your first name: \")\n",
    "last_name = input(\"Enter your last name: \")\n",
    "print(f\"Hello, {first_name} {last_name}! Welcome to Python programming.\")"
   ]
  },
  {
   "cell_type": "markdown",
   "id": "30966f87-01db-4616-8515-bfa2b4592bf2",
   "metadata": {},
   "source": [
    "# Q2: BMI Calculator"
   ]
  },
  {
   "cell_type": "code",
   "execution_count": 26,
   "id": "18c4fdc9-c746-472b-a571-f0a8c07d1df2",
   "metadata": {},
   "outputs": [
    {
     "name": "stdin",
     "output_type": "stream",
     "text": [
      "Enter your height in cm:  2000\n",
      "Enter your weight in kg:  50\n"
     ]
    },
    {
     "name": "stdout",
     "output_type": "stream",
     "text": [
      "Your BMI is: 0.12\n"
     ]
    }
   ],
   "source": [
    "# Q2: BMI Calculator\n",
    "height = float(input(\"Enter your height in cm: \"))\n",
    "weight = float(input(\"Enter your weight in kg: \"))\n",
    "bmi = weight / ((height/100)**2)\n",
    "print(\"Your BMI is:\", round(bmi, 2))"
   ]
  },
  {
   "cell_type": "markdown",
   "id": "926d9ff3-50c2-435e-a619-eecde57e36cb",
   "metadata": {},
   "source": [
    "# Q3: Grading System"
   ]
  },
  {
   "cell_type": "code",
   "execution_count": 4,
   "id": "603cd9f6-4856-4413-a48e-1cffd3a7e205",
   "metadata": {},
   "outputs": [
    {
     "name": "stdin",
     "output_type": "stream",
     "text": [
      "Enter your exam score:  100\n"
     ]
    },
    {
     "name": "stdout",
     "output_type": "stream",
     "text": [
      "Your grade is: A\n"
     ]
    }
   ],
   "source": [
    "# Q3: Grading System\n",
    "score = int(input(\"Enter your exam score: \"))\n",
    "if score >= 90:\n",
    "    grade = \"A\"\n",
    "elif score >= 80:\n",
    "    grade = \"B\"\n",
    "elif score >= 70:\n",
    "    grade = \"C\"\n",
    "elif score >= 60:\n",
    "    grade = \"D\"\n",
    "else:\n",
    "    grade = \"F\"\n",
    "print(\"Your grade is:\", grade)"
   ]
  },
  {
   "cell_type": "markdown",
   "id": "b8c750b7-65b5-43b7-ba8b-cf875bfc99aa",
   "metadata": {},
   "source": [
    "\n",
    "# Q4: Leap Year Checker"
   ]
  },
  {
   "cell_type": "code",
   "execution_count": 6,
   "id": "a73218d2-44c1-4ccd-a708-897395081894",
   "metadata": {},
   "outputs": [
    {
     "name": "stdin",
     "output_type": "stream",
     "text": [
      "Enter a year:  2063\n"
     ]
    },
    {
     "name": "stdout",
     "output_type": "stream",
     "text": [
      "2063 is not a leap year.\n"
     ]
    }
   ],
   "source": [
    "# Q4: Leap Year Checker\n",
    "year = int(input(\"Enter a year: \"))\n",
    "if (year % 4 == 0 and year % 100 != 0) or (year % 400 == 0):\n",
    "    print(year, \"is a leap year.\")\n",
    "else:\n",
    "    print(year, \"is not a leap year.\")"
   ]
  },
  {
   "cell_type": "markdown",
   "id": "bcb51501-7a8b-4778-b9c2-9b73bcc3d280",
   "metadata": {},
   "source": [
    "# Q5: Multiples of 5 (1 to 50)"
   ]
  },
  {
   "cell_type": "code",
   "execution_count": 9,
   "id": "ae09bab9-6e26-458f-a395-a3e61174f25f",
   "metadata": {},
   "outputs": [
    {
     "name": "stdout",
     "output_type": "stream",
     "text": [
      "Multiples of 5 from 1 to 50:\n",
      "5 10 15 20 25 30 35 40 45 50 \n"
     ]
    }
   ],
   "source": [
    "# Q5: Multiples of 5 (1 to 50)\n",
    "print(\"Multiples of 5 from 1 to 50:\")\n",
    "for i in range(1, 51):\n",
    "    if i % 5 == 0:\n",
    "       print(i, end=\" \")\n",
    "print()"
   ]
  },
  {
   "cell_type": "markdown",
   "id": "0ac0152f-8ca7-43cf-acaf-cde7a6056009",
   "metadata": {},
   "source": [
    "# Q6: Positive Number Loop"
   ]
  },
  {
   "cell_type": "code",
   "execution_count": 27,
   "id": "18b0a07d-391a-4a1c-85cc-4c0964669c75",
   "metadata": {},
   "outputs": [
    {
     "name": "stdin",
     "output_type": "stream",
     "text": [
      "Enter a positive number (negative to stop):  12\n"
     ]
    },
    {
     "name": "stdout",
     "output_type": "stream",
     "text": [
      "You entered: 12\n"
     ]
    }
   ],
   "source": [
    "# Q6: Positive Number Loop\n",
    "while True:\n",
    "    num = int(input(\"Enter a positive number (negative to stop): \"))\n",
    "    if num < 0:\n",
    "       print(\"Negative number entered. Stopping program.\")\n",
    "    break\n",
    "print(\"You entered:\", num)"
   ]
  },
  {
   "cell_type": "markdown",
   "id": "fa8fa82c-2473-4f4a-99a7-347ad68b7c16",
   "metadata": {},
   "source": [
    "# Q7: Fibonacci Sequence"
   ]
  },
  {
   "cell_type": "code",
   "execution_count": 21,
   "id": "810e55b5-0158-4bf4-9d9c-d831d201a90d",
   "metadata": {},
   "outputs": [
    {
     "name": "stdin",
     "output_type": "stream",
     "text": [
      "Enter number of terms for Fibonacci sequence:  7 \n"
     ]
    },
    {
     "name": "stdout",
     "output_type": "stream",
     "text": [
      "0 1 1 2 3 5 8 \n"
     ]
    }
   ],
   "source": [
    "# Q7: Fibonacci Sequence\n",
    "n = int(input(\"Enter number of terms for Fibonacci sequence: \"))\n",
    "a, b = 0, 1\n",
    "for _ in range(n):\n",
    "    print(a, end=\" \")\n",
    "    a, b = b, a + b\n",
    "print()"
   ]
  },
  {
   "cell_type": "markdown",
   "id": "5b30046f-c563-441c-b2e2-475296796e7c",
   "metadata": {},
   "source": [
    "# Q8: Circle Area Function"
   ]
  },
  {
   "cell_type": "code",
   "execution_count": 23,
   "id": "014fdb25-c012-4752-8e34-96d169892d2a",
   "metadata": {},
   "outputs": [
    {
     "name": "stdin",
     "output_type": "stream",
     "text": [
      "Enter the radius of the circle:  7\n"
     ]
    },
    {
     "name": "stdout",
     "output_type": "stream",
     "text": [
      "Area of circle: 153.94\n"
     ]
    }
   ],
   "source": [
    "# Q8: Circle Area Function\n",
    "def calculate_area(radius):\n",
    "   from math import pi\n",
    "   return pi * radius * radius\n",
    "\n",
    "\n",
    "radius = float(input(\"Enter the radius of the circle: \"))\n",
    "print(\"Area of circle:\", round(calculate_area(radius), 2))"
   ]
  },
  {
   "cell_type": "markdown",
   "id": "70cb3f4e-a963-4c88-993b-1a32070f8cac",
   "metadata": {},
   "source": [
    "# Q9: Palindrome Checker"
   ]
  },
  {
   "cell_type": "code",
   "execution_count": 24,
   "id": "76532109-f165-4b72-8894-64c274d14be9",
   "metadata": {},
   "outputs": [
    {
     "name": "stdin",
     "output_type": "stream",
     "text": [
      "Enter a word:  anusha\n"
     ]
    },
    {
     "name": "stdout",
     "output_type": "stream",
     "text": [
      "Palindrome? False\n"
     ]
    }
   ],
   "source": [
    "# Q9: Palindrome Checker\n",
    "def is_palindrome(word):\n",
    "    return word == word[::-1]\n",
    "\n",
    "\n",
    "word = input(\"Enter a word: \")\n",
    "print(\"Palindrome?\", is_palindrome(word))"
   ]
  },
  {
   "cell_type": "markdown",
   "id": "24bb2d5e-2240-45bd-a1f7-32d3ec84831a",
   "metadata": {},
   "source": [
    "# Q10: Prime Number Checker"
   ]
  },
  {
   "cell_type": "code",
   "execution_count": 25,
   "id": "6d74806b-9478-4149-a60c-bddaf37725c3",
   "metadata": {},
   "outputs": [
    {
     "name": "stdin",
     "output_type": "stream",
     "text": [
      "Enter a number:  2\n"
     ]
    },
    {
     "name": "stdout",
     "output_type": "stream",
     "text": [
      "Prime? True\n"
     ]
    }
   ],
   "source": [
    "# Q10: Prime Number Checker\n",
    "def check_prime(num):\n",
    "    if num <= 1:\n",
    "       return False\n",
    "    for i in range(2, int(num**0.5) + 1):\n",
    "        if num % i == 0:\n",
    "           return False\n",
    "    return True\n",
    "\n",
    "\n",
    "number = int(input(\"Enter a number: \"))\n",
    "print(\"Prime?\", check_prime(number))"
   ]
  },
  {
   "cell_type": "code",
   "execution_count": null,
   "id": "4baa300c-aeed-4d45-a09e-0365cd23e954",
   "metadata": {},
   "outputs": [],
   "source": []
  }
 ],
 "metadata": {
  "kernelspec": {
   "display_name": "Python [conda env:base] *",
   "language": "python",
   "name": "conda-base-py"
  },
  "language_info": {
   "codemirror_mode": {
    "name": "ipython",
    "version": 3
   },
   "file_extension": ".py",
   "mimetype": "text/x-python",
   "name": "python",
   "nbconvert_exporter": "python",
   "pygments_lexer": "ipython3",
   "version": "3.13.5"
  }
 },
 "nbformat": 4,
 "nbformat_minor": 5
}
